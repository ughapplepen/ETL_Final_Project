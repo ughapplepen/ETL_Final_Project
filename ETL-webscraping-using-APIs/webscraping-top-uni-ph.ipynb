{
 "cells": [
  {
   "cell_type": "code",
   "execution_count": 2,
   "id": "4ff80d28",
   "metadata": {},
   "outputs": [],
   "source": [
    "#import libraries\n",
    "import requests\n",
    "import sqlite3\n",
    "import pandas as pd\n",
    "from bs4 import BeautifulSoup"
   ]
  },
  {
   "cell_type": "code",
   "execution_count": 3,
   "id": "4f0a0a5e",
   "metadata": {},
   "outputs": [],
   "source": [
    "#initialization of known entities\n",
    "url = 'https://www.4icu.org/ph/'\n",
    "db_name = 'university_rank_ph.db'\n",
    "table_name = 'PH_Top_100_University'\n",
    "csv_path = 'top-100-uni.csv'\n",
    "df = pd.DataFrame(columns=[\"Rank\",\"University\",\"Town\"])\n",
    "count = 0"
   ]
  },
  {
   "cell_type": "code",
   "execution_count": 4,
   "id": "1a6f3de3",
   "metadata": {},
   "outputs": [],
   "source": [
    "#load the webpage for webscraping\n",
    "html_page = requests.get(url).text\n",
    "data = BeautifulSoup(html_page, 'html.parser')"
   ]
  },
  {
   "cell_type": "code",
   "execution_count": 6,
   "id": "e0e2314e",
   "metadata": {},
   "outputs": [],
   "source": [
    "#scraping of information\n",
    "tables = data.find_all('tbody')\n",
    "rows = tables[0].find_all('tr')"
   ]
  },
  {
   "cell_type": "code",
   "execution_count": 7,
   "id": "d6e7d557",
   "metadata": {},
   "outputs": [],
   "source": [
    "#iterate over the contents of the rows\n",
    "for row in rows:    \n",
    "    #check for the loop counter to restrict to 50 entries\n",
    "    if count<100:    \n",
    "        #Extract all the td data objects in the row and save them to col\n",
    "        col = row.find_all('td')    \n",
    "        #Check if the length of col is 0\n",
    "        if len(col)!=0: \n",
    "            #Create a dictionary data_dict with the keys same as the columns of the dataframe created\n",
    "            data_dict = {\"Rank\": col[0].contents[0],\n",
    "                         \"University\": col[1].contents[0],\n",
    "                         \"Town\": col[2].contents[0]}\n",
    "            #Convert the dictionary to a dataframe and concatenate it with the existing one\n",
    "            df1 = pd.DataFrame(data_dict, index=[0])\n",
    "            df = pd.concat([df,df1], ignore_index=True)\n",
    "            #Increment the loop counter\n",
    "            count+=1\n",
    "    else:\n",
    "        break"
   ]
  },
  {
   "cell_type": "code",
   "execution_count": 8,
   "id": "a9375184",
   "metadata": {},
   "outputs": [
    {
     "name": "stdout",
     "output_type": "stream",
     "text": [
      "  Rank                                 University             Town\n",
      "0    1      University of the Philippines Diliman  Quezon City ...\n",
      "1    2                Ateneo de Manila University  Quezon City ...\n",
      "2    3       University of the Philippines System      Quezon City\n",
      "3    4                     De La Salle University       Manila ...\n",
      "4    5                  University of Santo Tomas           Manila\n",
      "5    6  Polytechnic University of the Philippines       Manila ...\n",
      "6    7    University of the Philippines Los Baños        Los Baños\n",
      "7    8       University of the Philippines Manila       Manila ...\n",
      "8    9                   University of San Carlos        Cebu City\n",
      "9   10                         University of Cebu    Cebu City ...\n"
     ]
    }
   ],
   "source": [
    "print(df.head(10))"
   ]
  },
  {
   "cell_type": "code",
   "execution_count": 9,
   "id": "55a87a6b",
   "metadata": {},
   "outputs": [],
   "source": [
    "#save the dataframe to a csv file\n",
    "df.to_csv(csv_path)"
   ]
  },
  {
   "cell_type": "code",
   "execution_count": 10,
   "id": "af3c921f",
   "metadata": {},
   "outputs": [],
   "source": [
    "conn = sqlite3.connect(db_name)\n",
    "df.to_sql(table_name, conn, if_exists='replace', index=False)\n",
    "conn.close()"
   ]
  },
  {
   "cell_type": "code",
   "execution_count": null,
   "id": "7c5e7702",
   "metadata": {},
   "outputs": [],
   "source": []
  }
 ],
 "metadata": {
  "kernelspec": {
   "display_name": "Python 3 (ipykernel)",
   "language": "python",
   "name": "python3"
  },
  "language_info": {
   "codemirror_mode": {
    "name": "ipython",
    "version": 3
   },
   "file_extension": ".py",
   "mimetype": "text/x-python",
   "name": "python",
   "nbconvert_exporter": "python",
   "pygments_lexer": "ipython3",
   "version": "3.11.4"
  }
 },
 "nbformat": 4,
 "nbformat_minor": 5
}
