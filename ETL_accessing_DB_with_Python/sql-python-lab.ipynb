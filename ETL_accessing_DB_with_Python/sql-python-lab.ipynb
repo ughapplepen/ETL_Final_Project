{
 "cells": [
  {
   "cell_type": "code",
   "execution_count": 1,
   "id": "e4201c98",
   "metadata": {},
   "outputs": [],
   "source": [
    "#import libraries\n",
    "import sqlite3\n",
    "import pandas as pd"
   ]
  },
  {
   "cell_type": "code",
   "execution_count": 13,
   "id": "d9dcc855",
   "metadata": {},
   "outputs": [],
   "source": [
    "#open connection to the database\n",
    "conn = sqlite3.connect(\"Departments.db\")"
   ]
  },
  {
   "cell_type": "code",
   "execution_count": 3,
   "id": "61558252",
   "metadata": {},
   "outputs": [],
   "source": [
    "#initialization of variables\n",
    "url = 'https://web.archive.org/web/20230902185326/https://en.wikipedia.org/wiki/List_of_countries_by_GDP_%28nominal%29'\n",
    "file_path = \"Countries_by_GDP.csv\"\n",
    "table_name = \"Countries_by_GDP\"\n",
    "attribute_list = [\"Country\",\"GDP_USD_billion\"]"
   ]
  },
  {
   "cell_type": "code",
   "execution_count": 4,
   "id": "c03d4726",
   "metadata": {},
   "outputs": [],
   "source": [
    "#load the webpage for webscraping\n",
    "html_page = requests.get(url).text\n",
    "data = BeautifulSoup(html_page, 'html.parser')"
   ]
  },
  {
   "cell_type": "code",
   "execution_count": null,
   "id": "015a2c30",
   "metadata": {},
   "outputs": [],
   "source": [
    "#scraping of information\n",
    "tables = data.find_all('tbody')\n",
    "rows = tables[0].find_all('tr')"
   ]
  },
  {
   "cell_type": "code",
   "execution_count": null,
   "id": "d5e2db00",
   "metadata": {},
   "outputs": [],
   "source": [
    "#iterate over the contents of the rows\n",
    "for row in rows:    \n",
    "    #check for the loop counter to restrict to 50 entries\n",
    "    if count<100:    \n",
    "        #Extract all the td data objects in the row and save them to col\n",
    "        col = row.find_all('td')    \n",
    "        #Check if the length of col is 0\n",
    "        if len(col)!=0: \n",
    "            #Create a dictionary data_dict with the keys same as the columns of the dataframe created\n",
    "            data_dict = {\"Country\": col[1].contents[0],\n",
    "                         \"GDP_USD_billion\": col[1].contents[0],\n",
    "            #Convert the dictionary to a dataframe and concatenate it with the existing one\n",
    "            df1 = pd.DataFrame(data_dict, index=[0])\n",
    "            df = pd.concat([df,df1], ignore_index=True)\n",
    "            #Increment the loop counter\n",
    "            count+=1\n",
    "    else:\n",
    "        break"
   ]
  },
  {
   "cell_type": "code",
   "execution_count": 5,
   "id": "542260e0",
   "metadata": {},
   "outputs": [
    {
     "name": "stdout",
     "output_type": "stream",
     "text": [
      "Table is ready\n"
     ]
    }
   ],
   "source": [
    "#loading csv to table\n",
    "df.to_sql(table_name, conn, if_exists = 'replace', index = False)\n",
    "print(\"Table is ready\")"
   ]
  },
  {
   "cell_type": "markdown",
   "id": "ce9f70c0",
   "metadata": {},
   "source": [
    "# basic sql entries"
   ]
  },
  {
   "cell_type": "code",
   "execution_count": 16,
   "id": "a3bfd7d7",
   "metadata": {},
   "outputs": [
    {
     "name": "stdout",
     "output_type": "stream",
     "text": [
      "SELECT * FROM Departments\n",
      "   DEPT_ID           DEP_NAME  MANAGER_ID LOC_ID\n",
      "0        2    Architect Group       30001  L0001\n",
      "1        5     Software Group       30002  L0002\n",
      "2        7        Design Team       30003  L0003\n",
      "3        9  Quality Assurance       30010  L0010\n"
     ]
    }
   ],
   "source": [
    "#view all entries\n",
    "query_statement = f\"SELECT * FROM {table_name}\"\n",
    "query_output = pd.read_sql(query_statement, conn)\n",
    "print(query_statement)\n",
    "print(query_output)"
   ]
  },
  {
   "cell_type": "code",
   "execution_count": 14,
   "id": "20be1d95",
   "metadata": {},
   "outputs": [
    {
     "name": "stdout",
     "output_type": "stream",
     "text": [
      "SELECT dep_name FROM Departments\n",
      "            DEP_NAME\n",
      "0    Architect Group\n",
      "1     Software Group\n",
      "2        Design Team\n",
      "3  Quality Assurance\n"
     ]
    }
   ],
   "source": [
    "#view only department names\n",
    "query_statement = f\"SELECT dep_name FROM {table_name}\"\n",
    "query_output = pd.read_sql(query_statement, conn)\n",
    "print(query_statement)\n",
    "print(query_output)"
   ]
  },
  {
   "cell_type": "code",
   "execution_count": 15,
   "id": "3e7a85cd",
   "metadata": {},
   "outputs": [
    {
     "name": "stdout",
     "output_type": "stream",
     "text": [
      "SELECT count(*) FROM Departments\n",
      "   count(*)\n",
      "0         4\n"
     ]
    }
   ],
   "source": [
    "#view total count of entries\n",
    "query_statement = f\"SELECT count(*) FROM {table_name}\"\n",
    "query_output = pd.read_sql(query_statement, conn)\n",
    "print(query_statement)\n",
    "print(query_output)"
   ]
  },
  {
   "cell_type": "code",
   "execution_count": 9,
   "id": "03504074",
   "metadata": {},
   "outputs": [],
   "source": [
    "#create new dataframe of the new data\n",
    "data_dict = {\n",
    "    'DEPT_ID':[9],\n",
    "    'DEP_NAME':[\"Quality Assurance\"],\n",
    "    'MANAGER_ID':[30010],\n",
    "    'LOC_ID':['L0010']\n",
    "}\n",
    "data_append = pd.DataFrame(data_dict)"
   ]
  },
  {
   "cell_type": "code",
   "execution_count": 10,
   "id": "6ee30f85",
   "metadata": {},
   "outputs": [
    {
     "name": "stdout",
     "output_type": "stream",
     "text": [
      "Data appended successfully\n"
     ]
    }
   ],
   "source": [
    "#append new data to the table\n",
    "data_append.to_sql(table_name, conn, if_exists = 'append', index = False)\n",
    "print(\"Data appended successfully\")"
   ]
  },
  {
   "cell_type": "code",
   "execution_count": 11,
   "id": "8fc557a0",
   "metadata": {},
   "outputs": [],
   "source": [
    "#close connection to the database\n",
    "conn.close()"
   ]
  }
 ],
 "metadata": {
  "kernelspec": {
   "display_name": "Python 3 (ipykernel)",
   "language": "python",
   "name": "python3"
  },
  "language_info": {
   "codemirror_mode": {
    "name": "ipython",
    "version": 3
   },
   "file_extension": ".py",
   "mimetype": "text/x-python",
   "name": "python",
   "nbconvert_exporter": "python",
   "pygments_lexer": "ipython3",
   "version": "3.11.4"
  }
 },
 "nbformat": 4,
 "nbformat_minor": 5
}
