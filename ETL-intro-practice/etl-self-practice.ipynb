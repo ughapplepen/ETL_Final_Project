{
 "cells": [
  {
   "cell_type": "code",
   "execution_count": null,
   "id": "a7ef8962",
   "metadata": {},
   "outputs": [],
   "source": [
    "# #install all libraries needed for the project\n",
    "# !pip install pandas\n",
    "# !pip install glob2\n",
    "\n",
    "#uncomment if machine has not installed following libraries and modules"
   ]
  },
  {
   "cell_type": "code",
   "execution_count": 1,
   "id": "2f99b604",
   "metadata": {},
   "outputs": [],
   "source": [
    "#import libraries\n",
    "import glob \n",
    "import pandas as pd \n",
    "import xml.etree.ElementTree as et\n",
    "from datetime import datetime "
   ]
  },
  {
   "cell_type": "code",
   "execution_count": 2,
   "id": "4d3601d9",
   "metadata": {},
   "outputs": [],
   "source": [
    "#file path that needs to be available globally\n",
    "log_file = \"log_file.txt\" \n",
    "target_file = \"transformed_data.csv\" "
   ]
  },
  {
   "cell_type": "markdown",
   "id": "b02b3304",
   "metadata": {},
   "source": [
    "## 1. Extraction"
   ]
  },
  {
   "cell_type": "code",
   "execution_count": 3,
   "id": "905ae469",
   "metadata": {},
   "outputs": [],
   "source": [
    "#extract csv files\n",
    "def extract_from_csv(filepath): \n",
    "    df = pd.read_csv(filepath) \n",
    "    return df "
   ]
  },
  {
   "cell_type": "code",
   "execution_count": 4,
   "id": "6f2a1f81",
   "metadata": {},
   "outputs": [],
   "source": [
    "#extract json files\n",
    "def extract_from_json(filepath): \n",
    "    df = pd.read_json(filepath, lines=True) \n",
    "    return df "
   ]
  },
  {
   "cell_type": "code",
   "execution_count": 5,
   "id": "5808508c",
   "metadata": {},
   "outputs": [],
   "source": [
    "#extract xml files\n",
    "def extract_from_xml(filepath):\n",
    "    df = pd.DataFrame(columns=['car_model', 'year_of_manufacture', 'price', 'fuel'])\n",
    "    tree = et.parse(filepath)\n",
    "    root = tree.getroot()\n",
    "    for car in root:\n",
    "        car_model = car.find('car_model').text\n",
    "        year_of_manufacture = int(car.find('year_of_manufacture').text)\n",
    "        price = float(car.find('price').text)\n",
    "        fuel = car.find('fuel').text\n",
    "        df = pd.concat([df, pd.DataFrame([{'car_model':car_model, 'year_of_manufacture':year_of_manufacture,'price':price,'fuel':fuel}])], ignore_index=True)\n",
    "    return df"
   ]
  },
  {
   "cell_type": "code",
   "execution_count": 6,
   "id": "665497d9",
   "metadata": {},
   "outputs": [],
   "source": [
    "#function that calls extraction of file types to one dataframe\n",
    "def extract():\n",
    "    # create an empty data frame to hold extracted data\n",
    "    extracted_data = pd.DataFrame(columns=['car_model', 'year_of_manufacture', 'price', 'fuel'])  \n",
    "\n",
    "    # process all csv files \n",
    "    for csvfile in glob.glob(\"*.csv\"): \n",
    "        extracted_data = pd.concat([extracted_data, pd.DataFrame(extract_from_csv(csvfile))], ignore_index=True) \n",
    "         \n",
    "    # process all json files \n",
    "    for jsonfile in glob.glob(\"*.json\"): \n",
    "        extracted_data = pd.concat([extracted_data, pd.DataFrame(extract_from_json(jsonfile))], ignore_index=True) \n",
    "     \n",
    "    # process all xml files \n",
    "    for xmlfile in glob.glob(\"*.xml\"): \n",
    "        extracted_data = pd.concat([extracted_data, pd.DataFrame(extract_from_xml(xmlfile))], ignore_index=True) \n",
    "         \n",
    "    return extracted_data "
   ]
  },
  {
   "cell_type": "markdown",
   "id": "15259b7e",
   "metadata": {},
   "source": [
    "## 2. Transformation"
   ]
  },
  {
   "cell_type": "code",
   "execution_count": 7,
   "id": "089f2edc",
   "metadata": {},
   "outputs": [],
   "source": [
    "def transform(data):\n",
    "    #round price to 2 decimal places\n",
    "    data['price'] = round(data.price,2)\n",
    "    return data"
   ]
  },
  {
   "cell_type": "markdown",
   "id": "114031c9",
   "metadata": {},
   "source": [
    "## 3. Loading"
   ]
  },
  {
   "cell_type": "code",
   "execution_count": 8,
   "id": "915eb9e1",
   "metadata": {},
   "outputs": [],
   "source": [
    "def load_data(target_file, transformed_data): \n",
    "    transformed_data.to_csv(target_file)"
   ]
  },
  {
   "cell_type": "markdown",
   "id": "404b7710",
   "metadata": {},
   "source": [
    "## 4. Logging"
   ]
  },
  {
   "cell_type": "code",
   "execution_count": 9,
   "id": "d763cb0b",
   "metadata": {},
   "outputs": [],
   "source": [
    "def log_progress(message): \n",
    "    timestamp_format = '%Y-%h-%d-%H:%M:%S' # Year-Monthname-Day-Hour-Minute-Second \n",
    "    now = datetime.now() # get current timestamp \n",
    "    timestamp = now.strftime(timestamp_format) \n",
    "    with open(log_file,\"a\") as f: \n",
    "        f.write(timestamp + ',' + message + '\\n') "
   ]
  },
  {
   "cell_type": "markdown",
   "id": "bcf32dc2",
   "metadata": {},
   "source": [
    "## Testing ETL "
   ]
  },
  {
   "cell_type": "code",
   "execution_count": 10,
   "id": "7242e25c",
   "metadata": {},
   "outputs": [
    {
     "name": "stdout",
     "output_type": "stream",
     "text": [
      "Transformed Data\n",
      "        car_model year_of_manufacture     price    fuel\n",
      "0            ritz                2014   5000.00  Petrol\n",
      "1             sx4                2013   7089.55  Diesel\n",
      "2            ciaz                2017  10820.90  Petrol\n",
      "3         wagon r                2011   4253.73  Petrol\n",
      "4           swift                2014   6865.67  Diesel\n",
      "..            ...                 ...       ...     ...\n",
      "85          camry                2006   3731.34  Petrol\n",
      "86   land cruiser                2010  52238.81  Diesel\n",
      "87  corolla altis                2012   8805.97  Petrol\n",
      "88     etios liva                2013   5149.25  Petrol\n",
      "89        etios g                2014   7089.55  Petrol\n",
      "\n",
      "[90 rows x 4 columns]\n"
     ]
    }
   ],
   "source": [
    "# Log the initialization of the ETL process \n",
    "log_progress(\"ETL Job Started\") \n",
    " \n",
    "# Log the beginning of the Extraction process \n",
    "log_progress(\"Extract phase Started\") \n",
    "extracted_data = extract() \n",
    " \n",
    "# Log the completion of the Extraction process \n",
    "log_progress(\"Extract phase Ended\") \n",
    " \n",
    "# Log the beginning of the Transformation process \n",
    "log_progress(\"Transform phase Started\") \n",
    "transformed_data = transform(extracted_data) \n",
    "print(\"Transformed Data\") \n",
    "print(transformed_data) \n",
    " \n",
    "# Log the completion of the Transformation process \n",
    "log_progress(\"Transform phase Ended\") \n",
    " \n",
    "# Log the beginning of the Loading process \n",
    "log_progress(\"Load phase Started\") \n",
    "load_data(target_file,transformed_data) \n",
    " \n",
    "# Log the completion of the Loading process \n",
    "log_progress(\"Load phase Ended\") \n",
    " \n",
    "# Log the completion of the ETL process \n",
    "log_progress(\"ETL Job Ended\") "
   ]
  },
  {
   "cell_type": "code",
   "execution_count": null,
   "id": "19974026",
   "metadata": {},
   "outputs": [],
   "source": []
  }
 ],
 "metadata": {
  "kernelspec": {
   "display_name": "Python 3 (ipykernel)",
   "language": "python",
   "name": "python3"
  },
  "language_info": {
   "codemirror_mode": {
    "name": "ipython",
    "version": 3
   },
   "file_extension": ".py",
   "mimetype": "text/x-python",
   "name": "python",
   "nbconvert_exporter": "python",
   "pygments_lexer": "ipython3",
   "version": "3.11.4"
  }
 },
 "nbformat": 4,
 "nbformat_minor": 5
}
